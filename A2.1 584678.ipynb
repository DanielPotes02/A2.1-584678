{
 "cells": [
  {
   "cell_type": "markdown",
   "metadata": {},
   "source": [
    "# A2.1 Regresión logística y validación cruzada"
   ]
  },
  {
   "cell_type": "markdown",
   "metadata": {},
   "source": [
    "En este trabajo, se analizará una base de datos histórica que contiene información sobre los pasajeros del Titanic, con el objetivo de predecir la probabilidad de supervivencia de cada uno de ellos utilizando un modelo de regresión logística. Esta técnica es adecuada, ya que la variable a predecir (\"Survived\") es binaria: 1 significa que el pasajero sobrevivió, y 0 que no lo hizo.\n",
    "\n",
    "Variables utilizadas:\n",
    "\n",
    "* Survived: Variable objetivo (0 = No sobrevivió, 1 = Sobrevivió).\n",
    "* Pclass: Clase del pasajero (1 = Primera clase, 2 = Segunda clase, 3 = Tercera clase).\n",
    "* Age: Edad del pasajero.\n",
    "* SibSp: Número de hermanos o cónyuges a bordo.\n",
    "* Parch: Número de padres o hijos a bordo.\n",
    "* Fare: Tarifa pagada por el pasajero.\n",
    "* Cabin_known: Indica si se conoce el número de camarote (1 = Sí, 0 = No).\n",
    "* Sex_male: Género del pasajero (1 = Hombre, 0 = Mujer).\n",
    "* Embarked_Q: Indica si el pasajero embarcó en el puerto Queenstown (1 = Sí, 0 = No).\n",
    "* Embarked_S: Indica si el pasajero embarcó en el puerto Southampton (1 = Sí, 0 = No).\n",
    "* Con estas variables, el modelo buscará patrones que permitan identificar qué tipo de pasajeros tuvieron mayor probabilidad de sobrevivir al hundimiento."
   ]
  },
  {
   "cell_type": "code",
   "execution_count": 1,
   "metadata": {},
   "outputs": [],
   "source": [
    "import pandas as pd\n",
    "import numpy as np \n",
    "import matplotlib.pyplot as plt\n",
    "import seaborn as sns \n",
    "from sklearn.model_selection import train_test_split \n",
    "\n",
    "from sklearn.linear_model import LogisticRegression\n",
    "from sklearn.metrics import accuracy_score, confusion_matrix, recall_score, precision_score, f1_score"
   ]
  },
  {
   "cell_type": "code",
   "execution_count": 2,
   "metadata": {},
   "outputs": [
    {
     "data": {
      "text/html": [
       "<div>\n",
       "<style scoped>\n",
       "    .dataframe tbody tr th:only-of-type {\n",
       "        vertical-align: middle;\n",
       "    }\n",
       "\n",
       "    .dataframe tbody tr th {\n",
       "        vertical-align: top;\n",
       "    }\n",
       "\n",
       "    .dataframe thead th {\n",
       "        text-align: right;\n",
       "    }\n",
       "</style>\n",
       "<table border=\"1\" class=\"dataframe\">\n",
       "  <thead>\n",
       "    <tr style=\"text-align: right;\">\n",
       "      <th></th>\n",
       "      <th>Survived</th>\n",
       "      <th>Pclass</th>\n",
       "      <th>Age</th>\n",
       "      <th>SibSp</th>\n",
       "      <th>Parch</th>\n",
       "      <th>Fare</th>\n",
       "      <th>Cabin_known</th>\n",
       "      <th>Sex_male</th>\n",
       "      <th>Embarked_Q</th>\n",
       "      <th>Embarked_S</th>\n",
       "    </tr>\n",
       "  </thead>\n",
       "  <tbody>\n",
       "    <tr>\n",
       "      <th>0</th>\n",
       "      <td>0</td>\n",
       "      <td>3</td>\n",
       "      <td>22.0</td>\n",
       "      <td>1</td>\n",
       "      <td>0</td>\n",
       "      <td>7.2500</td>\n",
       "      <td>0</td>\n",
       "      <td>1</td>\n",
       "      <td>0</td>\n",
       "      <td>1</td>\n",
       "    </tr>\n",
       "    <tr>\n",
       "      <th>1</th>\n",
       "      <td>1</td>\n",
       "      <td>1</td>\n",
       "      <td>38.0</td>\n",
       "      <td>1</td>\n",
       "      <td>0</td>\n",
       "      <td>71.2833</td>\n",
       "      <td>1</td>\n",
       "      <td>0</td>\n",
       "      <td>0</td>\n",
       "      <td>0</td>\n",
       "    </tr>\n",
       "    <tr>\n",
       "      <th>2</th>\n",
       "      <td>1</td>\n",
       "      <td>3</td>\n",
       "      <td>26.0</td>\n",
       "      <td>0</td>\n",
       "      <td>0</td>\n",
       "      <td>7.9250</td>\n",
       "      <td>0</td>\n",
       "      <td>0</td>\n",
       "      <td>0</td>\n",
       "      <td>1</td>\n",
       "    </tr>\n",
       "    <tr>\n",
       "      <th>3</th>\n",
       "      <td>1</td>\n",
       "      <td>1</td>\n",
       "      <td>35.0</td>\n",
       "      <td>1</td>\n",
       "      <td>0</td>\n",
       "      <td>53.1000</td>\n",
       "      <td>1</td>\n",
       "      <td>0</td>\n",
       "      <td>0</td>\n",
       "      <td>1</td>\n",
       "    </tr>\n",
       "    <tr>\n",
       "      <th>4</th>\n",
       "      <td>0</td>\n",
       "      <td>3</td>\n",
       "      <td>35.0</td>\n",
       "      <td>0</td>\n",
       "      <td>0</td>\n",
       "      <td>8.0500</td>\n",
       "      <td>0</td>\n",
       "      <td>1</td>\n",
       "      <td>0</td>\n",
       "      <td>1</td>\n",
       "    </tr>\n",
       "  </tbody>\n",
       "</table>\n",
       "</div>"
      ],
      "text/plain": [
       "   Survived  Pclass   Age  SibSp  Parch     Fare  Cabin_known  Sex_male  \\\n",
       "0         0       3  22.0      1      0   7.2500            0         1   \n",
       "1         1       1  38.0      1      0  71.2833            1         0   \n",
       "2         1       3  26.0      0      0   7.9250            0         0   \n",
       "3         1       1  35.0      1      0  53.1000            1         0   \n",
       "4         0       3  35.0      0      0   8.0500            0         1   \n",
       "\n",
       "   Embarked_Q  Embarked_S  \n",
       "0           0           1  \n",
       "1           0           0  \n",
       "2           0           1  \n",
       "3           0           1  \n",
       "4           0           1  "
      ]
     },
     "execution_count": 2,
     "metadata": {},
     "output_type": "execute_result"
    }
   ],
   "source": [
    "df = pd.read_csv('DataTitanic_Processed.csv')\n",
    "df.head()"
   ]
  },
  {
   "cell_type": "markdown",
   "metadata": {},
   "source": [
    "Es importante mencionar que dentro de las variables del dataset, la variable Pclass es una variable categórica, ya que representa la clase en la que viajaba el pasajero (Primera, Segunda o Tercera clase). Este tipo de variables no puede ser interpretado correctamente por un modelo de regresión logística si se trata como una variable numérica ordinal, ya que el modelo podría asumir una relación lineal entre las clases, lo cual no es adecuado en este caso.\n",
    "\n",
    "Para resolver este problema, se procedió a realizar una transformación conocida como codificación one-hot o creación de variables dummies, lo que implica convertir cada categoría en una nueva columna binaria. De esta forma, el modelo podrá interpretar correctamente la pertenencia a cada clase sin inducir relaciones artificiales entre ellas.\n",
    "\n",
    "Este paso es fundamental para asegurar que el análisis y las predicciones del modelo no se vean distorsionados por un tratamiento inadecuado de las variables categóricas."
   ]
  },
  {
   "cell_type": "code",
   "execution_count": 3,
   "metadata": {},
   "outputs": [
    {
     "data": {
      "text/html": [
       "<div>\n",
       "<style scoped>\n",
       "    .dataframe tbody tr th:only-of-type {\n",
       "        vertical-align: middle;\n",
       "    }\n",
       "\n",
       "    .dataframe tbody tr th {\n",
       "        vertical-align: top;\n",
       "    }\n",
       "\n",
       "    .dataframe thead th {\n",
       "        text-align: right;\n",
       "    }\n",
       "</style>\n",
       "<table border=\"1\" class=\"dataframe\">\n",
       "  <thead>\n",
       "    <tr style=\"text-align: right;\">\n",
       "      <th></th>\n",
       "      <th>Survived</th>\n",
       "      <th>Age</th>\n",
       "      <th>SibSp</th>\n",
       "      <th>Parch</th>\n",
       "      <th>Fare</th>\n",
       "      <th>Cabin_known</th>\n",
       "      <th>Sex_male</th>\n",
       "      <th>Embarked_Q</th>\n",
       "      <th>Embarked_S</th>\n",
       "      <th>Pclass_2</th>\n",
       "      <th>Pclass_3</th>\n",
       "    </tr>\n",
       "  </thead>\n",
       "  <tbody>\n",
       "    <tr>\n",
       "      <th>0</th>\n",
       "      <td>0</td>\n",
       "      <td>22.0</td>\n",
       "      <td>1</td>\n",
       "      <td>0</td>\n",
       "      <td>7.2500</td>\n",
       "      <td>0</td>\n",
       "      <td>1</td>\n",
       "      <td>0</td>\n",
       "      <td>1</td>\n",
       "      <td>0</td>\n",
       "      <td>1</td>\n",
       "    </tr>\n",
       "    <tr>\n",
       "      <th>1</th>\n",
       "      <td>1</td>\n",
       "      <td>38.0</td>\n",
       "      <td>1</td>\n",
       "      <td>0</td>\n",
       "      <td>71.2833</td>\n",
       "      <td>1</td>\n",
       "      <td>0</td>\n",
       "      <td>0</td>\n",
       "      <td>0</td>\n",
       "      <td>0</td>\n",
       "      <td>0</td>\n",
       "    </tr>\n",
       "    <tr>\n",
       "      <th>2</th>\n",
       "      <td>1</td>\n",
       "      <td>26.0</td>\n",
       "      <td>0</td>\n",
       "      <td>0</td>\n",
       "      <td>7.9250</td>\n",
       "      <td>0</td>\n",
       "      <td>0</td>\n",
       "      <td>0</td>\n",
       "      <td>1</td>\n",
       "      <td>0</td>\n",
       "      <td>1</td>\n",
       "    </tr>\n",
       "    <tr>\n",
       "      <th>3</th>\n",
       "      <td>1</td>\n",
       "      <td>35.0</td>\n",
       "      <td>1</td>\n",
       "      <td>0</td>\n",
       "      <td>53.1000</td>\n",
       "      <td>1</td>\n",
       "      <td>0</td>\n",
       "      <td>0</td>\n",
       "      <td>1</td>\n",
       "      <td>0</td>\n",
       "      <td>0</td>\n",
       "    </tr>\n",
       "    <tr>\n",
       "      <th>4</th>\n",
       "      <td>0</td>\n",
       "      <td>35.0</td>\n",
       "      <td>0</td>\n",
       "      <td>0</td>\n",
       "      <td>8.0500</td>\n",
       "      <td>0</td>\n",
       "      <td>1</td>\n",
       "      <td>0</td>\n",
       "      <td>1</td>\n",
       "      <td>0</td>\n",
       "      <td>1</td>\n",
       "    </tr>\n",
       "  </tbody>\n",
       "</table>\n",
       "</div>"
      ],
      "text/plain": [
       "   Survived   Age  SibSp  Parch     Fare  Cabin_known  Sex_male  Embarked_Q  \\\n",
       "0         0  22.0      1      0   7.2500            0         1           0   \n",
       "1         1  38.0      1      0  71.2833            1         0           0   \n",
       "2         1  26.0      0      0   7.9250            0         0           0   \n",
       "3         1  35.0      1      0  53.1000            1         0           0   \n",
       "4         0  35.0      0      0   8.0500            0         1           0   \n",
       "\n",
       "   Embarked_S  Pclass_2  Pclass_3  \n",
       "0           1         0         1  \n",
       "1           0         0         0  \n",
       "2           1         0         1  \n",
       "3           1         0         0  \n",
       "4           1         0         1  "
      ]
     },
     "execution_count": 3,
     "metadata": {},
     "output_type": "execute_result"
    }
   ],
   "source": [
    "dummyPclass = pd.get_dummies(df.Pclass, drop_first=True, dtype=int)\n",
    "df = pd.concat([df, dummyPclass], axis=1)\n",
    "df = df.drop(columns=['Pclass'], axis=1)\n",
    "\n",
    "#Cambiar el nombre de las columnas\n",
    "df.columns = ['Survived', 'Age', 'SibSp', 'Parch', 'Fare', 'Cabin_known', 'Sex_male', 'Embarked_Q', 'Embarked_S', 'Pclass_2', 'Pclass_3']\n",
    "df.head()"
   ]
  },
  {
   "cell_type": "markdown",
   "metadata": {},
   "source": [
    "Para evaluar el desempeño del modelo de regresión logística, se realizó una separación de los datos en un conjunto de entrenamiento (80%) y un conjunto de prueba (20%). Dado que la variable objetivo \"Survived\" es desbalanceada (hay más pasajeros que no sobrevivieron que pasajeros que sí), se verificó las proporciones al dividir los datos, con el fin de asegurar que la división de clases (sobrevivientes y no sobrevivientes) se mantuviera constante tanto en el conjunto de entrenamiento como en el de prueba."
   ]
  },
  {
   "cell_type": "code",
   "execution_count": 4,
   "metadata": {},
   "outputs": [
    {
     "name": "stdout",
     "output_type": "stream",
     "text": [
      "Repartición de los datos originales\n",
      "Survived\n",
      "0    549\n",
      "1    342\n",
      "Name: count, dtype: int64\n",
      "\n",
      "Repartición de los datos de entrenamiento\n",
      "Survived\n",
      "0    444\n",
      "1    268\n",
      "Name: count, dtype: int64\n",
      "\n",
      "Repartición de los datos de prueba\n",
      "Survived\n",
      "0    105\n",
      "1     74\n",
      "Name: count, dtype: int64\n"
     ]
    }
   ],
   "source": [
    "print(\"Repartición de los datos originales\")\n",
    "print(df.Survived.value_counts())\n",
    "\n",
    "X = df.drop('Survived', axis=1)\n",
    "y = df.Survived\n",
    "\n",
    "X_train, X_test, y_train, y_test = train_test_split(X, y, test_size=0.2, random_state=42)\n",
    "\n",
    "print(\"\\nRepartición de los datos de entrenamiento\")\n",
    "print(y_train.value_counts())\n",
    "\n",
    "print(\"\\nRepartición de los datos de prueba\")\n",
    "print(y_test.value_counts())\n"
   ]
  },
  {
   "cell_type": "markdown",
   "metadata": {},
   "source": [
    "Estas cifras reflejan que la proporción de clases se ha mantenido correctamente en los diferentes conjuntos, lo cual es fundamental para asegurar que el modelo aprenda y generalice adecuadamente."
   ]
  },
  {
   "cell_type": "markdown",
   "metadata": {},
   "source": [
    "Para continuar con el análisis, se procedió a entrenar un modelo de regresión logística utilizando la totalidad de los datos de entrenamiento. Este modelo servirá como la versión final, con la cual se generarán predicciones sobre el conjunto de prueba, permitiendo evaluar su desempeño y extraer conclusiones sobre su capacidad predictiva."
   ]
  },
  {
   "cell_type": "code",
   "execution_count": 5,
   "metadata": {},
   "outputs": [],
   "source": [
    "# Generar modelo de regresión logística\n",
    "model = LogisticRegression(max_iter=1000, penalty=None,class_weight=\"balanced\", random_state=0).fit(X_train,y_train)"
   ]
  },
  {
   "cell_type": "markdown",
   "metadata": {},
   "source": [
    "Con el objetivo de medir el desempeño inicial del modelo de regresión logística, se aplicaron técnicas de validación cruzada sobre el conjunto de entrenamiento. La validación cruzada permite obtener una estimación más robusta de la exactitud del modelo, al evaluar su desempeño en múltiples particiones de los datos.\n",
    "\n",
    "Para este análisis, se utilizaron dos enfoques:\n",
    "\n",
    "Leave-One-Out Cross Validation (LOOCV): Esta técnica consiste en entrenar el modelo utilizando todos los datos de entrenamiento excepto una observación, que se deja fuera y se utiliza como validación. Este proceso se repite tantas veces como observaciones haya, cambiando en cada iteración la observación que se deja fuera.\n",
    "Validación cruzada K-Fold: En este caso, los datos de entrenamiento se dividieron en K=5 subconjuntos o \"folds\". El modelo se entrena en 4 de estos subconjuntos y se valida en el restante, repitiendo el proceso hasta que cada fold haya sido utilizado como validación."
   ]
  },
  {
   "cell_type": "code",
   "execution_count": 6,
   "metadata": {},
   "outputs": [
    {
     "name": "stdout",
     "output_type": "stream",
     "text": [
      "Exactitud Leave-One-Out:  0.7865168539325843\n",
      "Exactitud K-Fold:  0.7879050526937851\n"
     ]
    }
   ],
   "source": [
    "y_pred = model.predict(X_test)\n",
    "\n",
    "# Medir la exactitud del modelo usando técnica de validación cruzada Leave-One-Out. \n",
    "from sklearn.model_selection import cross_val_score\n",
    "from sklearn.model_selection import LeaveOneOut\n",
    "\n",
    "loo = LeaveOneOut()\n",
    "scores = cross_val_score(model, X_train, y_train, cv=loo)\n",
    "print(\"Exactitud Leave-One-Out: \", scores.mean())\n",
    "\n",
    "# Medir la exactitud del modelo usando técnica de validación cruzada K-Fold.\n",
    "from sklearn.model_selection import KFold\n",
    "\n",
    "kf = KFold(n_splits=5)\n",
    "scores = cross_val_score(model, X_train, y_train, cv=kf)\n",
    "print(\"Exactitud K-Fold: \", scores.mean())"
   ]
  },
  {
   "cell_type": "markdown",
   "metadata": {},
   "source": [
    "Ambos resultados son consistentes entre sí, lo cual sugiere que el modelo tiene un comportamiento estable y que las métricas reflejan adecuadamente su capacidad de generalización sobre los datos de entrenamiento."
   ]
  },
  {
   "cell_type": "markdown",
   "metadata": {},
   "source": [
    "Con el modelo entrenado, se generó un vector de probabilidades para el conjunto de prueba, que representa la probabilidad estimada de que cada pasajero sobreviva."
   ]
  },
  {
   "cell_type": "code",
   "execution_count": 7,
   "metadata": {},
   "outputs": [
    {
     "name": "stdout",
     "output_type": "stream",
     "text": [
      "Probabilidades de sobrevivir de 5 pasajeros de prueba\n",
      "[0.16749329 0.3293191  0.19045585 0.93297391 0.84177496]\n"
     ]
    }
   ],
   "source": [
    "#  Generar un vectorde probabilidades para los datos de prueba\n",
    "\n",
    "y_pred_prob = model.predict_proba(X_test)[:,1]\n",
    "print(\"Probabilidades de sobrevivir de 5 pasajeros de prueba\")\n",
    "print(y_pred_prob[0:5])"
   ]
  },
  {
   "cell_type": "markdown",
   "metadata": {},
   "source": [
    "Esto indica que los primeros tres pasajeros tienen bajas probabilidades de sobrevivir (menores al 50%), mientras que los pasajeros 4 y 5 presentan altas probabilidades de supervivencia (mayores al 80%).\n",
    "\n",
    "Este comportamiento es consistente con lo esperado, ya que refleja que el modelo es capaz de diferenciar entre pasajeros con características asociadas a mayor riesgo y aquellos con condiciones más favorables para la supervivencia."
   ]
  },
  {
   "cell_type": "markdown",
   "metadata": {},
   "source": [
    "Para analizar el comportamiento del modelo al clasificar a los pasajeros del Titanic, se generó una matriz de confusión utilizando las predicciones sobre el conjunto de prueba. Esta matriz permite observar cuántos pasajeros fueron correctamente o incorrectamente clasificados como sobrevivientes o no sobrevivientes."
   ]
  },
  {
   "cell_type": "code",
   "execution_count": 8,
   "metadata": {},
   "outputs": [
    {
     "data": {
      "image/png": "[encoded data removed]",
      "text/plain": [
       "<Figure size 1000x800 with 2 Axes>"
      ]
     },
     "metadata": {},
     "output_type": "display_data"
    }
   ],
   "source": [
    "# La matriz de confusion\n",
    "conf_matrix = confusion_matrix(y_test, y_pred)\n",
    "\n",
    "# Dibujamos la matriz de confusion\n",
    "plt.figure(figsize=(10,8))\n",
    "sns.heatmap(conf_matrix, annot=True,cmap = \"Blues\", xticklabels= [\"No Sobrevivio\", \"Sobrevivio\"], yticklabels= [\"No Sobrevivio\", \"Sobrevivio\"])\n",
    "plt.ylabel(\"y_Observada\")\n",
    "plt.xlabel(\"y_Pronosticada\")\n",
    "plt.title(\"Matriz de confusion\")\n",
    "plt.show()"
   ]
  },
  {
   "cell_type": "code",
   "execution_count": null,
   "metadata": {},
   "outputs": [],
   "source": []
  },
  {
   "cell_type": "markdown",
   "metadata": {},
   "source": [
    "Con esta información se puede analizar el balance entre aciertos y errores, evaluando el desempeño general del modelo y observando su capacidad tanto para identificar correctamente a los pasajeros que no sobrevivieron, como para detectar correctamente a los que lograron sobrevivir. Además, es importante mencionar que los resultados son coherentes con lo esperado, debido a la proporción de clases, donde hay más pasajeros que no sobrevivieron. Esto provoca que el modelo tenga un mejor desempeño prediciendo a los pasajeros que no sobrevivieron, en comparación con aquellos que sí lograron sobrevivir."
   ]
  },
  {
   "cell_type": "markdown",
   "metadata": {},
   "source": [
    "Para evaluar el desempeño del modelo, se definieron tres umbrales de clasificación diferentes:\n",
    "\n",
    "* Umbral 0.5: Es el valor comúnmente utilizado en problemas de clasificación binaria.\n",
    "* Umbral 0.75: Exige mayor certeza para predecir que un pasajero sobrevivió.\n",
    "* Umbral 0.25: Relaja el criterio para considerar que un pasajero sobrevivió.\n",
    "\n",
    "Para cada uno de estos umbrales, se generaron las respectivas matrices de confusión, permitiendo calcular las siguientes métricas clave:\n",
    "\n",
    "* Exactitud: Proporción de predicciones correctas sobre el total de observaciones.\n",
    "* Sensibilidad: Proporción de pasajeros que realmente sobrevivieron y fueron correctamente identificados como sobrevivientes.\n",
    "* Especificidad: Proporción de pasajeros que no sobrevivieron y fueron correctamente identificados como fallecidos.\n",
    "* Precisión: Proporción de predicciones positivas que realmente correspondían a pasajeros que sobrevivieron.\n",
    "* F1 Score: Promedio armónico entre precisión y sensibilidad, que permite evaluar el balance entre ambos indicadores.\n",
    "\n",
    "Este análisis permite observar cómo cambia el comportamiento del modelo al modificar el umbral de decisión, lo cual es importante para ajustar el modelo dependiendo de si se quiere priorizar la detección de sobrevivientes (alta sensibilidad), minimizar los falsos positivos (alta especificidad), o buscar un equilibrio entre ambos (alto F1 Score), según los objetivos del análisis."
   ]
  },
  {
   "cell_type": "code",
   "execution_count": 9,
   "metadata": {},
   "outputs": [
    {
     "name": "stdout",
     "output_type": "stream",
     "text": [
      "Matriz de confusión con umbral de probabilidad de  0.25\n",
      "[[62 43]\n",
      " [ 7 67]]\n",
      "Exactitud:  0.7206703910614525\n",
      "Sensibilidad:  0.9054054054054054\n",
      "Especificidad:  0.5904761904761905\n",
      "Precision:  0.6090909090909091\n",
      "F1:  0.7282608695652174\n",
      "\n",
      "\n",
      "Matriz de confusión con umbral de probabilidad de  0.5\n",
      "[[86 19]\n",
      " [15 59]]\n",
      "Exactitud:  0.8100558659217877\n",
      "Sensibilidad:  0.7972972972972973\n",
      "Especificidad:  0.819047619047619\n",
      "Precision:  0.7564102564102564\n",
      "F1:  0.7763157894736842\n",
      "\n",
      "\n",
      "Matriz de confusión con umbral de probabilidad de  0.75\n",
      "[[97  8]\n",
      " [25 49]]\n",
      "Exactitud:  0.8156424581005587\n",
      "Sensibilidad:  0.6621621621621622\n",
      "Especificidad:  0.9238095238095239\n",
      "Precision:  0.8596491228070176\n",
      "F1:  0.7480916030534351\n",
      "\n",
      "\n"
     ]
    }
   ],
   "source": [
    "# Generar matriz de confusio, y exactitud, sensibilidad y especificidad del modelo antes 3 diferentes umbrales (0.5, 0.75, y 0.25)\n",
    "def confusion_matrix_threshold(y_test, y_pred_prob, threshold):\n",
    "    y_pred = np.where(y_pred_prob > threshold, 1, 0)\n",
    "    conf_matrix = confusion_matrix(y_test, y_pred)\n",
    "    return conf_matrix\n",
    "\n",
    "thresholds = [0.25, 0.5, 0.75]\n",
    "for threshold in thresholds:\n",
    "    print(\"Matriz de confusión con umbral de probabilidad de \", threshold)\n",
    "    print(confusion_matrix_threshold(y_test, y_pred_prob, threshold))\n",
    "    \n",
    "    y_pred = np.where(y_pred_prob > threshold, 1, 0)\n",
    "    print(\"Exactitud: \", accuracy_score(y_test, y_pred))\n",
    "    print(\"Sensibilidad: \", recall_score(y_test, y_pred))\n",
    "    print(\"Especificidad: \", recall_score(y_test, y_pred, pos_label=0))\n",
    "    print(\"Precision: \", precision_score(y_test, y_pred))\n",
    "    print(\"F1: \", f1_score(y_test, y_pred))\n",
    "    print(\"\\n\")\n",
    "    \n",
    "    "
   ]
  },
  {
   "cell_type": "markdown",
   "metadata": {},
   "source": [
    "**Umbral de 0.25**\n",
    "Con un umbral bajo, el modelo tiende a predecir más pasajeros como sobrevivientes, lo que se refleja en una alta sensibilidad (90.54%) pero una baja especificidad (59.05%). Esto significa que el modelo detecta bien a los sobrevivientes, pero comete más errores al clasificar como sobrevivientes a quienes realmente no lo son. La precisión es moderada (60.91%), y la métrica F1 es de 72.83%, indicando un balance aceptable entre precisión y sensibilidad.\n",
    "\n",
    "**Umbral de 0.5**\n",
    "Este umbral representa el punto medio estándar en clasificación binaria. Aquí, la exactitud aumenta a 81.01%, con una sensibilidad de 79.73% y una especificidad de 81.90%, lo que sugiere un mejor equilibrio entre ambos tipos de errores. La precisión es de 75.64%, y la métrica F1 alcanza 77.63%, mostrando que este umbral ofrece un mejor balance entre la correcta clasificación de sobrevivientes y no sobrevivientes.\n",
    "\n",
    "**Umbral de 0.75**\n",
    "Al aumentar el umbral, el modelo se vuelve más conservador al clasificar como sobreviviente, lo que eleva la especificidad a 92.38% (es decir, predice mejor a quienes no sobrevivieron), pero reduce la sensibilidad a 66.22%, lo que implica que está fallando más en identificar a los sobrevivientes. La precisión mejora a 85.96%, pero la métrica F1 disminuye a 74.81% debido a la menor sensibilidad.\n",
    "\n",
    "El umbral de 0.5 parece ofrecer el mejor equilibrio entre sensibilidad y especificidad, proporcionando una clasificación más confiable en términos generales, lo que se refleja en su f1 score mas alto que los otros umbrales.\n"
   ]
  },
  {
   "cell_type": "markdown",
   "metadata": {},
   "source": [
    "Se va a generar la curva ROC para evaluar el desempeño del modelo de regresión logística en la clasificación de supervivencia de los pasajeros del Titanic. La curva ROC representa la relación entre la tasa de verdaderos positivos (sensibilidad) y la tasa de falsos positivos a distintos umbrales de probabilidad."
   ]
  },
  {
   "cell_type": "code",
   "execution_count": 10,
   "metadata": {},
   "outputs": [
    {
     "data": {
      "image/png": "[encoded data removed]",
      "text/plain": [
       "<Figure size 1000x800 with 1 Axes>"
      ]
     },
     "metadata": {},
     "output_type": "display_data"
    }
   ],
   "source": [
    "# Calcular la curva ROC\n",
    "from sklearn.metrics import roc_curve, roc_auc_score\n",
    "\n",
    "fpr, tpr, thresholds = roc_curve(y_test, y_pred_prob)\n",
    "roc_auc = roc_auc_score(y_test, y_pred_prob)\n",
    "\n",
    "plt.figure(figsize=(10,8))\n",
    "plt.plot(fpr, tpr, label='Curva ROC (area = %0.2f)' % roc_auc)\n",
    "plt.plot([0, 1], [0, 1],'r--')\n",
    "plt.xlim([0.0, 1.0])\n",
    "plt.ylim([0.0, 1.0])\n",
    "plt.xlabel('Tasa de Falsos Positivos')\n",
    "plt.ylabel('Tasa de Verdaderos Positivos')\n",
    "plt.title('Curva ROC')\n",
    "plt.legend(loc=\"lower right\")\n",
    "plt.show()\n"
   ]
  },
  {
   "cell_type": "markdown",
   "metadata": {},
   "source": [
    "En la gráfica obtenida, se observa que el modelo tiene un buen desempeño, con un área bajo la curva (AUC) de 0.87. Este valor indica que el modelo logra una adecuada discriminación entre pasajeros que sobrevivieron y aquellos que no lo hicieron. Un AUC de 0.87 sugiere que, en promedio, el modelo asigna una mayor probabilidad de supervivencia a los pasajeros que realmente sobrevivieron en comparación con los que no lo hicieron.\n",
    "\n",
    "La línea roja discontinua representa la línea de referencia de un clasificador aleatorio (AUC = 0.5), mientras que la curva azul muestra el rendimiento real del modelo, evidenciando su capacidad predictiva superior al azar."
   ]
  },
  {
   "cell_type": "markdown",
   "metadata": {},
   "source": [
    "Se mostraran los coeficientes obtenidos en la regresión logística que representan el impacto de cada variable en la probabilidad de que un pasajero haya sobrevivido al Titanic. Un coeficiente positivo indica que un aumento en esa variable incrementa la probabilidad de supervivencia, mientras que un coeficiente negativo sugiere una disminución en dicha probabilidad."
   ]
  },
  {
   "cell_type": "code",
   "execution_count": 11,
   "metadata": {},
   "outputs": [
    {
     "name": "stdout",
     "output_type": "stream",
     "text": [
      "Coeficientes del modelo de regresión logística\n",
      "Intercepto = [3.09450244]\n",
      "                    0\n",
      "Age         -0.031072\n",
      "SibSp       -0.292115\n",
      "Parch       -0.182307\n",
      "Fare         0.003486\n",
      "Cabin_known  1.232930\n",
      "Sex_male    -2.671632\n",
      "Embarked_Q  -0.292065\n",
      "Embarked_S  -0.541033\n",
      "Pclass_2     0.333534\n",
      "Pclass_3    -0.735069\n"
     ]
    }
   ],
   "source": [
    "# Mostrar los coeficientes del modelo de regresión logística\n",
    "print(\"Coeficientes del modelo de regresión logística\")\n",
    "print('Intercepto =', model.intercept_)\n",
    "coeficientes = pd.DataFrame(model.coef_, columns=X.columns)\n",
    "print(coeficientes.transpose())\n",
    "\n"
   ]
  },
  {
   "cell_type": "markdown",
   "metadata": {},
   "source": [
    "De acuerdo a los coeficientes, se pueden interpretar lo siguiente:\n",
    "\n",
    "* Sexo masculino (Sex_male = -2.6716): Ser hombre reduce considerablemente la probabilidad de supervivencia, lo cual concuerda con la política de evacuación de \"mujeres y niños primero\".\n",
    "* Segunda clase (Pclass_2 = 0.3335): Los pasajeros de segunda clase tuvieron una probabilidad ligeramente mayor de sobrevivir en comparación con la primera clase.\n",
    "* Tercera clase (Pclass_3 = -0.7351): Los pasajeros de tercera clase tenían una probabilidad significativamente menor de supervivencia en comparación con los de primera clase, lo que refleja las desigualdades en el acceso a los botes salvavidas.\n",
    "* Tarifa del boleto (Fare = 0.0035): Un aumento en la tarifa está asociado con una mayor probabilidad de supervivencia. Esto podría indicar que los pasajeros en clases más altas tenían más acceso a los botes salvavidas.\n",
    "* Edad (Age = -0.0311): A medida que la edad aumenta, la probabilidad de supervivencia disminuye ligeramente. Esto sugiere que los pasajeros más jóvenes tenían mayor probabilidad de sobrevivir.\n"
   ]
  },
  {
   "cell_type": "markdown",
   "metadata": {},
   "source": [
    "**Firma de honor:** \"Doy mi palabra que he realizado esta actividad con integridad académica\" - Daniel Matthieu Potes Lesoinne #584678"
   ]
  }
 ],
 "metadata": {
  "kernelspec": {
   "display_name": "base",
   "language": "python",
   "name": "python3"
  },
  "language_info": {
   "codemirror_mode": {
    "name": "ipython",
    "version": 3
   },
   "file_extension": ".py",
   "mimetype": "text/x-python",
   "name": "python",
   "nbconvert_exporter": "python",
   "pygments_lexer": "ipython3",
   "version": "3.12.4"
  }
 },
 "nbformat": 4,
 "nbformat_minor": 2
}
